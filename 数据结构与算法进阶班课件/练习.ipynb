{
 "cells": [
  {
   "cell_type": "markdown",
   "source": [
    "# Backtracking\n",
    "\n",
    "So, while solving a problem using recursion, we break the given problem into smaller ones. Let's say we have a problem  and we divided it into three smaller problems ,  and . Now it may be the case that the solution to  does not depend on all the three subproblems, in fact we don't even know on which one it depends.\n",
    "\n",
    "Let's take a situation. Suppose you are standing in front of three tunnels, one of which is having a bag of gold at its end, but you don't know which one. So you'll try all three. First go in tunnel , if that is not the one, then come out of it, and go into tunnel , and again if that is not the one, come out of it and go into tunnel . So basically in backtracking we attempt solving a subproblem, and if we don't reach the desired solution, then <font color=\"red\">**undo**</font> whatever we did for solving that subproblem, and try solving another subproblem."
   ],
   "metadata": {
    "collapsed": false,
    "pycharm": {
     "name": "#%% md\n"
    }
   }
  },
  {
   "cell_type": "markdown",
   "source": [
    "## subset\n",
    "\n",
    "给定一个数组，找到其所有的subset"
   ],
   "metadata": {
    "collapsed": false,
    "pycharm": {
     "name": "#%% md\n"
    }
   }
  },
  {
   "cell_type": "markdown",
   "source": [
    "<img src=\"./mypics/subset.png\" width=\"440\"/>"
   ],
   "metadata": {
    "collapsed": false,
    "pycharm": {
     "name": "#%% md\n"
    }
   }
  },
  {
   "cell_type": "code",
   "execution_count": 3,
   "outputs": [
    {
     "name": "stdout",
     "output_type": "stream",
     "text": [
      "[[], ['a'], ['a', 'b'], ['a', 'b', 'c'], ['a', 'c'], ['b'], ['b', 'c'], ['c']]\n"
     ]
    }
   ],
   "source": [
    "def subsets_recursive(nums):\n",
    "    lst = []\n",
    "    result = []\n",
    "    subsets_recursive_helper(result, lst, nums, 0);\n",
    "    return result;\n",
    "\n",
    "def subsets_recursive_helper(result, lst, nums, pos):\n",
    "    pass\n",
    "\n",
    "nums = ['a', 'b', 'c']\n",
    "print(subsets_recursive(nums)) # [[], ['a'], ['a', 'b'], ['a', 'b', 'c'], ['a', 'c'], ['b'], ['b', 'c'], ['c']]"
   ],
   "metadata": {
    "collapsed": false,
    "pycharm": {
     "name": "#%%\n"
    }
   }
  },
  {
   "cell_type": "markdown",
   "source": [
    "## Combination Sum\n",
    "\n",
    "给定一个不包含重复数字的数组和一个和，找到使用该数字里的数的所有的组合使得他们的和等于这个和。数组里的数可以重复利用"
   ],
   "metadata": {
    "collapsed": false,
    "pycharm": {
     "name": "#%% md\n"
    }
   }
  },
  {
   "cell_type": "code",
   "execution_count": 5,
   "outputs": [
    {
     "name": "stdout",
     "output_type": "stream",
     "text": [
      "[[2, 2, 3], [7]]\n",
      "[[2, 2, 2, 2], [2, 3, 3], [3, 5]]\n"
     ]
    }
   ],
   "source": [
    "def comb(nums, t):\n",
    "    result = []\n",
    "    tmp = []\n",
    "    combHelper(result, tmp, nums, t, 0)\n",
    "    return result\n",
    "\n",
    "def combHelper(result, tmp, nums, remains, start):\n",
    "    pass\n",
    "\n",
    "candidates1 = [2,3,6,7]\n",
    "t1 = 7\n",
    "print(comb(candidates1, t1)) # [[2, 2, 3], [7]]\n",
    "candidates2 = [2,3,5]\n",
    "t2 = 8\n",
    "print(comb(candidates2, t2)) # [[2, 2, 2, 2], [2, 3, 3], [3, 5]]\n"
   ],
   "metadata": {
    "collapsed": false,
    "pycharm": {
     "name": "#%%\n"
    }
   }
  }
 ],
 "metadata": {
  "kernelspec": {
   "display_name": "Python 3",
   "language": "python",
   "name": "python3"
  },
  "language_info": {
   "codemirror_mode": {
    "name": "ipython",
    "version": 2
   },
   "file_extension": ".py",
   "mimetype": "text/x-python",
   "name": "python",
   "nbconvert_exporter": "python",
   "pygments_lexer": "ipython2",
   "version": "2.7.6"
  }
 },
 "nbformat": 4,
 "nbformat_minor": 0
}