{
 "cells": [
  {
   "cell_type": "markdown",
   "source": [
    "# 1. 画尺子"
   ],
   "metadata": {
    "collapsed": false,
    "pycharm": {
     "name": "#%% md\n"
    }
   }
  },
  {
   "cell_type": "code",
   "execution_count": 1,
   "outputs": [
    {
     "name": "stdout",
     "output_type": "stream",
     "text": [
      "--- 0\n",
      "-\n",
      "--\n",
      "-\n",
      "--- 1\n",
      "-\n",
      "--\n",
      "-\n",
      "--- 2\n",
      "-\n",
      "--\n",
      "-\n",
      "--- 3\n",
      "-\n",
      "--\n",
      "-\n",
      "--- 4\n",
      "-\n",
      "--\n",
      "-\n",
      "--- 5\n"
     ]
    }
   ],
   "source": [
    "def draw_line(tick_length, tick_label=''):\n",
    "    line = '-' * tick_length\n",
    "    if tick_label:\n",
    "        line += ' ' + tick_label\n",
    "    print(line)\n",
    "\n",
    "def draw_interval(center_length):\n",
    "    pass\n",
    "\n",
    "def draw_rule(num_inches, major_length):\n",
    "    draw_line(major_length, '0')\n",
    "    for j in range(1, 1 + num_inches):\n",
    "        draw_interval(major_length - 1)\n",
    "        draw_line(major_length, str(j))\n",
    "\n",
    "draw_rule(5,3)"
   ],
   "metadata": {
    "collapsed": false,
    "pycharm": {
     "name": "#%%\n"
    }
   }
  },
  {
   "cell_type": "markdown",
   "source": [
    "# 2. 数学表达式\n",
    "\n",
    "tip: 我之前的错误就在于 用了一种类似贪心算法，只要a能*2就先*2，然后再加。但是这么做会导致不能最大化（加到最大再乘）。\n",
    "\n",
    "正确的做法是让b/2，除到不能除了（再除小于a）再让b慢慢-1到a"
   ],
   "metadata": {
    "collapsed": false,
    "pycharm": {
     "name": "#%% md\n"
    }
   }
  },
  {
   "cell_type": "code",
   "execution_count": 3,
   "outputs": [
    {
     "name": "stdout",
     "output_type": "stream",
     "text": [
      "25 = ((5 + 1) * 2 * 2 + 1)\n"
     ]
    }
   ],
   "source": [
    "def intSeq(a, b):\n",
    "    pass\n",
    "a = 5;\n",
    "b = 25;\n",
    "print(str(b) + \" = \" + intSeq(a, b))"
   ],
   "metadata": {
    "collapsed": false,
    "pycharm": {
     "name": "#%%\n"
    }
   }
  },
  {
   "cell_type": "markdown",
   "source": [
    "# 3. 汉诺塔"
   ],
   "metadata": {
    "collapsed": false,
    "pycharm": {
     "name": "#%% md\n"
    }
   }
  },
  {
   "cell_type": "code",
   "execution_count": null,
   "outputs": [],
   "source": [
    "def hanoi(n, start, end, by):\n",
    "    if (n==1):\n",
    "        print(\"Move from \" + start + \" to \" + end)\n",
    "    else:\n",
    "        pass\n",
    "n = 3\n",
    "hanoi(n, \"START\", \"END\", \"BY\")"
   ],
   "metadata": {
    "collapsed": false,
    "pycharm": {
     "name": "#%%\n"
    }
   }
  },
  {
   "cell_type": "markdown",
   "source": [
    "# 4. subset\n",
    "\n",
    "给定一个数组，找到其所有的subset"
   ],
   "metadata": {
    "collapsed": false,
    "pycharm": {
     "name": "#%% md\n"
    }
   }
  },
  {
   "cell_type": "markdown",
   "source": [
    "<img src=\"../mypics/subset.png\" width=\"440\"/>"
   ],
   "metadata": {
    "collapsed": false,
    "pycharm": {
     "name": "#%% md\n"
    }
   }
  },
  {
   "cell_type": "markdown",
   "source": [
    "## Backtracking\n",
    "\n",
    "So, while solving a problem using recursion, we break the given problem into smaller ones. Let's say we have a problem  and we divided it into three smaller problems ,  and . Now it may be the case that the solution to  does not depend on all the three subproblems, in fact we don't even know on which one it depends.\n",
    "\n",
    "Let's take a situation. Suppose you are standing in front of three tunnels, one of which is having a bag of gold at its end, but you don't know which one. So you'll try all three. First go in tunnel , if that is not the one, then come out of it, and go into tunnel , and again if that is not the one, come out of it and go into tunnel . So basically in backtracking we attempt solving a subproblem, and if we don't reach the desired solution, then <font color=\"red\">**undo**</font> whatever we did for solving that subproblem, and try solving another subproblem."
   ],
   "metadata": {
    "collapsed": false,
    "pycharm": {
     "name": "#%% md\n"
    }
   }
  },
  {
   "cell_type": "code",
   "execution_count": 7,
   "outputs": [
    {
     "name": "stdout",
     "output_type": "stream",
     "text": [
      "[[], ['a'], ['a', 'b'], ['a', 'b', 'c'], ['a', 'c'], ['b'], ['b', 'c'], ['c']]\n"
     ]
    }
   ],
   "source": [
    "def subsets_recursive(nums):\n",
    "    lst = []\n",
    "    result = []\n",
    "    subsets_recursive_helper(result, lst, nums, 0);\n",
    "    return result;\n",
    "\n",
    "def subsets_recursive_helper(result, lst, nums, pos):\n",
    "    pass\n",
    "\n",
    "nums = ['a', 'b', 'c']\n",
    "print(subsets_recursive(nums)) # [[], ['a'], ['a', 'b'], ['a', 'b', 'c'], ['a', 'c'], ['b'], ['b', 'c'], ['c']]"
   ],
   "metadata": {
    "collapsed": false,
    "pycharm": {
     "name": "#%%\n"
    }
   }
  },
  {
   "cell_type": "markdown",
   "source": [
    "# 5. Combination Sum\n",
    "\n",
    "给定一个不包含重复数字的数组和一个和，找到使用该数字里的数的所有的组合使得他们的和等于这个和。数组里的数可以重复利用"
   ],
   "metadata": {
    "collapsed": false,
    "pycharm": {
     "name": "#%% md\n"
    }
   }
  },
  {
   "cell_type": "code",
   "execution_count": 5,
   "outputs": [
    {
     "name": "stdout",
     "output_type": "stream",
     "text": [
      "[[2, 2, 3], [7]]\n",
      "[[2, 2, 2, 2], [2, 3, 3], [3, 5]]\n"
     ]
    }
   ],
   "source": [
    "def comb(nums, t):\n",
    "    result = []\n",
    "    tmp = []\n",
    "    combHelper(result, tmp, nums, t, 0)\n",
    "    return result\n",
    "\n",
    "def combHelper(result, tmp, nums, remains, start):\n",
    "    if remains == 0:\n",
    "        result.append(tmp)\n",
    "    for i in range(len(nums)):\n",
    "        if remains - nums[i] < 0: break\n",
    "        tmp.append(nums[i])\n",
    "        combHelper(result, temp, )\n",
    "\n",
    "\n",
    "\n",
    "candidates1 = [2,3,6,7]\n",
    "t1 = 7\n",
    "print(comb(candidates1, t1)) # [[2, 2, 3], [7]]\n",
    "candidates2 = [2,3,5]\n",
    "t2 = 8\n",
    "print(comb(candidates2, t2)) # [[2, 2, 2, 2], [2, 3, 3], [3, 5]]\n"
   ],
   "metadata": {
    "collapsed": false,
    "pycharm": {
     "name": "#%%\n"
    }
   }
  },
  {
   "cell_type": "code",
   "execution_count": null,
   "outputs": [],
   "source": [
    "def perm(result, nums):\n",
    "    if (len(nums)==0):\n",
    "        print(result)\n",
    "\n",
    "    for i in range(len(nums)):\n",
    "        perm(result)\n",
    "\n",
    "nums = [1, 2, 3]\n",
    "perm('', nums)"
   ],
   "metadata": {
    "collapsed": false,
    "pycharm": {
     "name": "#%%\n"
    }
   }
  }
 ],
 "metadata": {
  "kernelspec": {
   "display_name": "Python 3",
   "language": "python",
   "name": "python3"
  },
  "language_info": {
   "codemirror_mode": {
    "name": "ipython",
    "version": 2
   },
   "file_extension": ".py",
   "mimetype": "text/x-python",
   "name": "python",
   "nbconvert_exporter": "python",
   "pygments_lexer": "ipython2",
   "version": "2.7.6"
  }
 },
 "nbformat": 4,
 "nbformat_minor": 0
}