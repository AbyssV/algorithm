{
 "cells": [
  {
   "cell_type": "markdown",
   "source": [
    "# 1. 洗牌\n",
    "\n",
    "洗牌后的每个元素随机出现在每个位置，且概率相同\n",
    "\n",
    "tip: 注意每张牌只能和随机的之后的牌换"
   ],
   "metadata": {
    "collapsed": false,
    "pycharm": {
     "name": "#%% md\n"
    }
   }
  },
  {
   "cell_type": "code",
   "execution_count": null,
   "outputs": [],
   "source": [
    "import random\n",
    "\n",
    "def shuffle_correct(cards):\n",
    "    pass\n",
    "\n",
    "A = [i for i in range(0, 10)]\n",
    "shuffle_correct(A)"
   ],
   "metadata": {
    "collapsed": false,
    "pycharm": {
     "name": "#%%\n"
    }
   }
  },
  {
   "cell_type": "markdown",
   "source": [
    "# 2. 数质数\n",
    "\n",
    "给定一个正整数n，计算出小于等于n的质数有多少个。 比如17，则返回7，因为小于等于7的质数有2，3，5，7，13，17"
   ],
   "metadata": {
    "collapsed": false,
    "pycharm": {
     "name": "#%% md\n"
    }
   }
  },
  {
   "cell_type": "code",
   "execution_count": null,
   "outputs": [],
   "source": [
    "def count_prime(n):\n",
    "    pass\n",
    "count_prime(100)"
   ],
   "metadata": {
    "collapsed": false,
    "pycharm": {
     "name": "#%%\n"
    }
   }
  }
 ],
 "metadata": {
  "kernelspec": {
   "display_name": "Python 3",
   "language": "python",
   "name": "python3"
  },
  "language_info": {
   "codemirror_mode": {
    "name": "ipython",
    "version": 2
   },
   "file_extension": ".py",
   "mimetype": "text/x-python",
   "name": "python",
   "nbconvert_exporter": "python",
   "pygments_lexer": "ipython2",
   "version": "2.7.6"
  }
 },
 "nbformat": 4,
 "nbformat_minor": 0
}